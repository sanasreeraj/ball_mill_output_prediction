{
 "cells": [
  {
   "cell_type": "code",
   "execution_count": 2,
   "metadata": {},
   "outputs": [
    {
     "name": "stdout",
     "output_type": "stream",
     "text": [
      "Mean Squared Error for each output variable: [ 1.17751534 16.98007002 18.56301127]\n",
      "R-squared Score: 0.18915362940601374\n",
      "> 35         0.168724\n",
      "35 to 200    0.847737\n",
      "< 200        0.843621\n",
      "dtype: float64\n"
     ]
    }
   ],
   "source": [
    "import pandas as pd\n",
    "from sklearn.model_selection import train_test_split\n",
    "from sklearn.preprocessing import StandardScaler\n",
    "from sklearn.multioutput import MultiOutputRegressor\n",
    "from sklearn.ensemble import RandomForestRegressor\n",
    "from sklearn.metrics import mean_squared_error, r2_score\n",
    "\n",
    "# Load the data\n",
    "data = pd.read_excel('model_prep.xlsx')\n",
    "\n",
    "# Extract input features and process parameters\n",
    "X_initial = data[['X1', 'X2', 'X3', 'X4', 'X5', 'X6']]\n",
    "process_parameters = data.columns.difference(['Date', 'X1', 'X2', 'X3', 'X4', 'X5', 'X6', '> 35', '35 to 200', '< 200'])\n",
    "X_process = data[process_parameters]\n",
    "y_output = data[['> 35', '35 to 200', '< 200']]\n",
    "\n",
    "# Split the data into training and testing sets for process parameter prediction\n",
    "X_train_initial, X_test_initial, X_train_process, X_test_process = train_test_split(X_initial, X_process, test_size=0.2, random_state=42)\n",
    "\n",
    "# Standardize the input features\n",
    "scaler_initial = StandardScaler()\n",
    "X_train_initial_scaled = scaler_initial.fit_transform(X_train_initial)\n",
    "X_test_initial_scaled = scaler_initial.transform(X_test_initial)\n",
    "\n",
    "# Train model to predict process parameters\n",
    "model_process = MultiOutputRegressor(RandomForestRegressor(n_estimators=100, random_state=42))\n",
    "model_process.fit(X_train_initial_scaled, X_train_process)\n",
    "\n",
    "# Predict process parameters on the test set\n",
    "X_test_process_pred = model_process.predict(X_test_initial_scaled)\n",
    "\n",
    "# Combine initial inputs and predicted process parameters for final model training\n",
    "X_train_final = pd.concat([X_train_initial.reset_index(drop=True), pd.DataFrame(model_process.predict(X_train_initial_scaled), columns=process_parameters)], axis=1)\n",
    "X_test_final = pd.concat([X_test_initial.reset_index(drop=True), pd.DataFrame(X_test_process_pred, columns=process_parameters)], axis=1)\n",
    "\n",
    "# Standardize the final input features\n",
    "scaler_final = StandardScaler()\n",
    "X_train_final_scaled = scaler_final.fit_transform(X_train_final)\n",
    "X_test_final_scaled = scaler_final.transform(X_test_final)\n",
    "\n",
    "# Split the data into training and testing sets for final output prediction\n",
    "y_train, y_test = train_test_split(y_output, test_size=0.2, random_state=42)\n",
    "\n",
    "# Initialize and train the final model\n",
    "final_model = MultiOutputRegressor(RandomForestRegressor(n_estimators=100, random_state=42))\n",
    "final_model.fit(X_train_final_scaled, y_train)\n",
    "\n",
    "# Predict on the test set\n",
    "y_pred = final_model.predict(X_test_final_scaled)\n",
    "\n",
    "# Evaluate the final model\n",
    "mse = mean_squared_error(y_test, y_pred, multioutput='raw_values')\n",
    "r2 = r2_score(y_test, y_pred)\n",
    "\n",
    "\n",
    "# Output the results\n",
    "print(\"Mean Squared Error for each output variable:\", mse)\n",
    "print(\"R-squared Score:\", r2)\n",
    "\n",
    "def accuracy_within_threshold(y_true, y_pred, threshold=0.1):\n",
    "    return (abs(y_true - y_pred) / y_true < threshold).mean()\n",
    "\n",
    "accuracy = accuracy_within_threshold(y_test, y_pred)\n",
    "\n",
    "print(accuracy)"
   ]
  },
  {
   "cell_type": "code",
   "execution_count": 1,
   "metadata": {},
   "outputs": [
    {
     "name": "stdout",
     "output_type": "stream",
     "text": [
      "Mean Squared Error for each output variable: [0.01530403 0.84704779 0.82254631]\n",
      "R-squared Score: 0.9663669101772179\n"
     ]
    }
   ],
   "source": [
    "import pandas as pd\n",
    "from sklearn.model_selection import train_test_split\n",
    "from sklearn.preprocessing import StandardScaler\n",
    "from sklearn.multioutput import MultiOutputRegressor\n",
    "from sklearn.ensemble import RandomForestRegressor\n",
    "from sklearn.metrics import mean_squared_error, r2_score\n",
    "import numpy as np\n",
    "\n",
    "# Load the data\n",
    "data = pd.read_excel('model_data_selected_columns.xlsx')\n",
    "\n",
    "# Extract input features and output labels\n",
    "X = data.drop(columns=['> 35', '35 to 200', '< 200', 'Date'])  # Drop the output columns and 'Date'\n",
    "y = data[['> 35', '35 to 200', '< 200']]\n",
    "\n",
    "# Split the data into training and testing sets\n",
    "X_train, X_test, y_train, y_test = train_test_split(X, y, test_size=0.2, random_state=42)\n",
    "\n",
    "# Standardize the input features\n",
    "scaler = StandardScaler()\n",
    "X_train_scaled = scaler.fit_transform(X_train)\n",
    "X_test_scaled = scaler.transform(X_test)\n",
    "\n",
    "# Initialize and train the model\n",
    "model = MultiOutputRegressor(RandomForestRegressor(n_estimators=100, random_state=42))\n",
    "model.fit(X_train_scaled, y_train)\n",
    "\n",
    "# Predict on the test set\n",
    "y_pred = model.predict(X_test_scaled)\n",
    "\n",
    "# Evaluate the model\n",
    "mse = mean_squared_error(y_test, y_pred, multioutput='raw_values')\n",
    "r2 = r2_score(y_test, y_pred)\n",
    "\n",
    "# Output the results\n",
    "print(\"Mean Squared Error for each output variable:\", mse)\n",
    "print(\"R-squared Score:\", r2)"
   ]
  }
 ],
 "metadata": {
  "kernelspec": {
   "display_name": "Python 3",
   "language": "python",
   "name": "python3"
  },
  "language_info": {
   "codemirror_mode": {
    "name": "ipython",
    "version": 3
   },
   "file_extension": ".py",
   "mimetype": "text/x-python",
   "name": "python",
   "nbconvert_exporter": "python",
   "pygments_lexer": "ipython3",
   "version": "3.12.1"
  }
 },
 "nbformat": 4,
 "nbformat_minor": 2
}
