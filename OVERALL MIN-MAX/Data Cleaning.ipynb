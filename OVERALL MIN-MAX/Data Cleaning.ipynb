{
 "cells": [
  {
   "cell_type": "code",
   "execution_count": 18,
   "metadata": {},
   "outputs": [],
   "source": [
    "import warnings\n",
    "warnings.filterwarnings(\"ignore\")"
   ]
  },
  {
   "cell_type": "markdown",
   "metadata": {},
   "source": [
    "LOADING DATASETS"
   ]
  },
  {
   "cell_type": "code",
   "execution_count": 19,
   "metadata": {},
   "outputs": [],
   "source": [
    "import pandas as pd\n",
    "\n",
    "data = pd.read_csv('Ball_Mill_Raw_Data.csv', encoding='latin1')\n",
    "data_minmax = pd.read_excel('minmax.xlsx')"
   ]
  },
  {
   "cell_type": "code",
   "execution_count": 20,
   "metadata": {},
   "outputs": [
    {
     "data": {
      "text/html": [
       "<div>\n",
       "<style scoped>\n",
       "    .dataframe tbody tr th:only-of-type {\n",
       "        vertical-align: middle;\n",
       "    }\n",
       "\n",
       "    .dataframe tbody tr th {\n",
       "        vertical-align: top;\n",
       "    }\n",
       "\n",
       "    .dataframe thead th {\n",
       "        text-align: right;\n",
       "    }\n",
       "</style>\n",
       "<table border=\"1\" class=\"dataframe\">\n",
       "  <thead>\n",
       "    <tr style=\"text-align: right;\">\n",
       "      <th></th>\n",
       "      <th>Min</th>\n",
       "      <th>Max</th>\n",
       "    </tr>\n",
       "    <tr>\n",
       "      <th>Feature</th>\n",
       "      <th></th>\n",
       "      <th></th>\n",
       "    </tr>\n",
       "  </thead>\n",
       "  <tbody>\n",
       "    <tr>\n",
       "      <th>Weigh_Feeder_rate_ A(TPH)</th>\n",
       "      <td>10</td>\n",
       "      <td>50.00</td>\n",
       "    </tr>\n",
       "    <tr>\n",
       "      <th>Weigh_feeder_rate_B(TPH)</th>\n",
       "      <td>10</td>\n",
       "      <td>50.00</td>\n",
       "    </tr>\n",
       "    <tr>\n",
       "      <th>Ball_mill_amps</th>\n",
       "      <td>40</td>\n",
       "      <td>100.00</td>\n",
       "    </tr>\n",
       "    <tr>\n",
       "      <th>MILL_FEED_END_BRNG_TEMP(Â°C)</th>\n",
       "      <td>35</td>\n",
       "      <td>56.17</td>\n",
       "    </tr>\n",
       "    <tr>\n",
       "      <th>MILL_DISCH_END_BRNG_TEMP(Â°C)</th>\n",
       "      <td>35</td>\n",
       "      <td>100.42</td>\n",
       "    </tr>\n",
       "  </tbody>\n",
       "</table>\n",
       "</div>"
      ],
      "text/plain": [
       "                               Min     Max\n",
       "Feature                                   \n",
       "Weigh_Feeder_rate_ A(TPH)       10   50.00\n",
       "Weigh_feeder_rate_B(TPH)        10   50.00\n",
       "Ball_mill_amps                  40  100.00\n",
       "MILL_FEED_END_BRNG_TEMP(Â°C)    35   56.17\n",
       "MILL_DISCH_END_BRNG_TEMP(Â°C)   35  100.42"
      ]
     },
     "execution_count": 20,
     "metadata": {},
     "output_type": "execute_result"
    }
   ],
   "source": [
    "data_minmax.set_index('Feature', inplace=True)\n",
    "data_minmax.head()"
   ]
  },
  {
   "cell_type": "code",
   "execution_count": 21,
   "metadata": {},
   "outputs": [],
   "source": [
    "cols = data_minmax.index"
   ]
  },
  {
   "cell_type": "code",
   "execution_count": 22,
   "metadata": {},
   "outputs": [
    {
     "name": "stdout",
     "output_type": "stream",
     "text": [
      "Weigh_Feeder_rate_ A(TPH): object\n",
      "Weigh_feeder_rate_B(TPH): object\n",
      "Ball_mill_amps: object\n",
      "MILL_FEED_END_BRNG_TEMP(Â°C): object\n",
      "MILL_DISCH_END_BRNG_TEMP(Â°C): object\n",
      "PINION_DE_BRNG_TEMP(Â°C): object\n",
      "MILL_FEED_END_BRNG_TEMP(Â°C): object\n",
      "MILL_DISCH_END_BRNG_TEMP(Â°C): object\n",
      "PINION_NDE_BRNG_TEMP(Â°C): object\n",
      "BALL_MILL_VENT_SYS_TEMP(Â°C): object\n",
      "BALL_MILL_VENT_FAN_AMPS: object\n",
      "SCREW_CONV _ AMPS(Ball mill Outlet): object\n",
      "GR_Silo_level(%): object\n",
      "Ball_mill_stack_SPM: object\n",
      "Plant_air_pressure(kg/cm2): object\n",
      "BAG_FLTR_SUC_PRESSURE(mmWC): object\n",
      "FAN_SUC_PRESSURE(mmWC): object\n",
      "BAG_FILTER_DP(mmWC): float64\n",
      "GRS_AIR_SLIDE_BLWR_CURRENT_AMPS: object\n",
      "BALL_MILL_AIRSLIDE_BLWR _AMPS: object\n",
      "BALL_MILL_VIBRATION_A(mm/s): object\n",
      "BALL_MILL_VIBRATION_B(mm/s): object\n",
      "BALL_MILL_VIBRATION_C(mm/s): object\n",
      "BALL_MILL_VIBRATION_D(mm/s): object\n",
      "BALL_MILL_WND_TEMP_B(Â°C): object\n",
      "BALL_MILL_WND_TEMP_C(Â°C): object\n",
      "BALL_MILL_WND_TEMP_D(Â°C): object\n",
      "BALL_MILL_WND_TEMP_E(Â°C): object\n",
      "BALL_MILL_WND_TEMP_F(Â°C): object\n",
      "HP_LUBR_OIL_PRESSURE_1 (kg/cm2): object\n",
      "HP_LUBR_OIL_PRESSURE_2(kg/cm2): object\n",
      "MAIN_GEARBOX_LUBE_OIL_PRESSURE(kg/cm2): object\n",
      "LUBR_OIL_RESV_LVL(%): object\n",
      "LUBR_OIL_RESV_TEMP(Â°C): object\n",
      "SCREW_CONV _ CURRENT(Amps): object\n",
      "BUCKET_ELEVATOR_CURRENT(Amps): object\n"
     ]
    }
   ],
   "source": [
    "data_types = data.dtypes\n",
    "\n",
    "# Print each column with its missing value count and data type\n",
    "for column in cols:\n",
    "    print(f'{column}: {data_types[column]}')"
   ]
  },
  {
   "cell_type": "code",
   "execution_count": 23,
   "metadata": {},
   "outputs": [
    {
     "data": {
      "text/plain": [
       "205519"
      ]
     },
     "execution_count": 23,
     "metadata": {},
     "output_type": "execute_result"
    }
   ],
   "source": [
    "len(data)"
   ]
  },
  {
   "cell_type": "code",
   "execution_count": 24,
   "metadata": {},
   "outputs": [],
   "source": [
    "for col in cols:\n",
    "    data[col] = pd.to_numeric(data[col], errors='coerce')\n",
    "df = data"
   ]
  },
  {
   "cell_type": "markdown",
   "metadata": {},
   "source": [
    "REMOVAL OF INCONSISTENT SAMPLES BY SETTING UP THE MIN AND MAX VALUES\n"
   ]
  },
  {
   "cell_type": "code",
   "execution_count": 25,
   "metadata": {},
   "outputs": [
    {
     "name": "stdout",
     "output_type": "stream",
     "text": [
      "Weigh_Feeder_rate_ A(TPH):  93593\n",
      "Weigh_feeder_rate_B(TPH):  88548\n",
      "Ball_mill_amps:  88546\n",
      "MILL_FEED_END_BRNG_TEMP(Â°C):  88546\n",
      "MILL_DISCH_END_BRNG_TEMP(Â°C):  88546\n",
      "PINION_DE_BRNG_TEMP(Â°C):  88382\n",
      "MILL_FEED_END_BRNG_TEMP(Â°C):  88382\n",
      "MILL_DISCH_END_BRNG_TEMP(Â°C):  88382\n",
      "PINION_NDE_BRNG_TEMP(Â°C):  88381\n",
      "BALL_MILL_VENT_SYS_TEMP(Â°C):  88144\n",
      "BALL_MILL_VENT_FAN_AMPS:  88126\n",
      "SCREW_CONV _ AMPS(Ball mill Outlet):  88122\n",
      "GR_Silo_level(%):  6704\n",
      "Ball_mill_stack_SPM:  4986\n",
      "Plant_air_pressure(kg/cm2):  3912\n",
      "BAG_FLTR_SUC_PRESSURE(mmWC):  3208\n",
      "FAN_SUC_PRESSURE(mmWC):  3208\n",
      "BAG_FILTER_DP(mmWC):  3208\n",
      "GRS_AIR_SLIDE_BLWR_CURRENT_AMPS:  1977\n",
      "BALL_MILL_AIRSLIDE_BLWR _AMPS:  1977\n",
      "BALL_MILL_VIBRATION_A(mm/s):  1977\n",
      "BALL_MILL_VIBRATION_B(mm/s):  1977\n",
      "BALL_MILL_VIBRATION_C(mm/s):  1977\n",
      "BALL_MILL_VIBRATION_D(mm/s):  1977\n",
      "BALL_MILL_WND_TEMP_B(Â°C):  1977\n",
      "BALL_MILL_WND_TEMP_C(Â°C):  1977\n",
      "BALL_MILL_WND_TEMP_D(Â°C):  1977\n",
      "BALL_MILL_WND_TEMP_E(Â°C):  1977\n",
      "BALL_MILL_WND_TEMP_F(Â°C):  1977\n",
      "HP_LUBR_OIL_PRESSURE_1 (kg/cm2):  1694\n",
      "HP_LUBR_OIL_PRESSURE_2(kg/cm2):  1245\n",
      "MAIN_GEARBOX_LUBE_OIL_PRESSURE(kg/cm2):  1245\n",
      "LUBR_OIL_RESV_LVL(%):  1245\n",
      "LUBR_OIL_RESV_TEMP(Â°C):  1245\n",
      "SCREW_CONV _ CURRENT(Amps):  1245\n",
      "BUCKET_ELEVATOR_CURRENT(Amps):  1245\n",
      "Error columns:  ['MILL_FEED_END_BRNG_TEMP(Â°C)', 'MILL_DISCH_END_BRNG_TEMP(Â°C)', 'MILL_FEED_END_BRNG_TEMP(Â°C)', 'MILL_DISCH_END_BRNG_TEMP(Â°C)']\n"
     ]
    }
   ],
   "source": [
    "error_cols = [] \n",
    "for col in cols:\n",
    "    try:\n",
    "        data = data[(data[col] >= data_minmax['Min'][col]) & (data[col] <= data_minmax['Max'][col])]\n",
    "\n",
    "    except:\n",
    "        error_cols.append(col)\n",
    "    print(f\"{col}: \",len(data))\n",
    "print(\"Error columns: \", error_cols)\n",
    "\n",
    "#The values printed here are the records that are remained after applying the condition."
   ]
  },
  {
   "cell_type": "code",
   "execution_count": 26,
   "metadata": {},
   "outputs": [
    {
     "data": {
      "text/plain": [
       "1245"
      ]
     },
     "execution_count": 26,
     "metadata": {},
     "output_type": "execute_result"
    }
   ],
   "source": [
    "len(data)"
   ]
  },
  {
   "cell_type": "code",
   "execution_count": 27,
   "metadata": {},
   "outputs": [],
   "source": [
    "# path = 'cleaned.csv'\n",
    "# data.to_csv(path)"
   ]
  },
  {
   "cell_type": "code",
   "execution_count": 28,
   "metadata": {},
   "outputs": [
    {
     "name": "stdout",
     "output_type": "stream",
     "text": [
      "Weigh_Feeder_rate_ A(TPH): 0\n",
      "Weigh_feeder_rate_B(TPH): 0\n",
      "Ball_mill_amps: 0\n",
      "MILL_FEED_END_BRNG_TEMP(Â°C): 0\n",
      "MILL_DISCH_END_BRNG_TEMP(Â°C): 0\n",
      "PINION_DE_BRNG_TEMP(Â°C): 0\n",
      "MILL_FEED_END_BRNG_TEMP(Â°C): 0\n",
      "MILL_DISCH_END_BRNG_TEMP(Â°C): 0\n",
      "PINION_NDE_BRNG_TEMP(Â°C): 0\n",
      "BALL_MILL_VENT_SYS_TEMP(Â°C): 0\n",
      "BALL_MILL_VENT_FAN_AMPS: 0\n",
      "SCREW_CONV _ AMPS(Ball mill Outlet): 0\n",
      "GR_Silo_level(%): 0\n",
      "Ball_mill_stack_SPM: 0\n",
      "Plant_air_pressure(kg/cm2): 0\n",
      "BAG_FLTR_SUC_PRESSURE(mmWC): 0\n",
      "FAN_SUC_PRESSURE(mmWC): 0\n",
      "BAG_FILTER_DP(mmWC): 0\n",
      "GRS_AIR_SLIDE_BLWR_CURRENT_AMPS: 0\n",
      "BALL_MILL_AIRSLIDE_BLWR _AMPS: 0\n",
      "BALL_MILL_VIBRATION_A(mm/s): 0\n",
      "BALL_MILL_VIBRATION_B(mm/s): 0\n",
      "BALL_MILL_VIBRATION_C(mm/s): 0\n",
      "BALL_MILL_VIBRATION_D(mm/s): 0\n",
      "BALL_MILL_WND_TEMP_B(Â°C): 0\n",
      "BALL_MILL_WND_TEMP_C(Â°C): 0\n",
      "BALL_MILL_WND_TEMP_D(Â°C): 0\n",
      "BALL_MILL_WND_TEMP_E(Â°C): 0\n",
      "BALL_MILL_WND_TEMP_F(Â°C): 0\n",
      "HP_LUBR_OIL_PRESSURE_1 (kg/cm2): 0\n",
      "HP_LUBR_OIL_PRESSURE_2(kg/cm2): 0\n",
      "MAIN_GEARBOX_LUBE_OIL_PRESSURE(kg/cm2): 0\n",
      "LUBR_OIL_RESV_LVL(%): 0\n",
      "LUBR_OIL_RESV_TEMP(Â°C): 0\n",
      "SCREW_CONV _ CURRENT(Amps): 0\n",
      "BUCKET_ELEVATOR_CURRENT(Amps): 0\n"
     ]
    }
   ],
   "source": [
    "import pandas as pd\n",
    "\n",
    "# Assuming 'data' is your DataFrame\n",
    "# Calculate missing values\n",
    "missing_values = data[cols].isnull().sum()\n",
    "\n",
    "# Print each column and its missing value count\n",
    "for column, count in missing_values.items():\n",
    "    print(f'{column}: {count}')"
   ]
  },
  {
   "cell_type": "markdown",
   "metadata": {},
   "source": [
    "REPLACEMENT OF MISSING VALUES"
   ]
  },
  {
   "cell_type": "code",
   "execution_count": 29,
   "metadata": {},
   "outputs": [],
   "source": [
    "import numpy as np\n",
    "\n",
    "# Replace NaN and Inf with appropriate values (0, mean, mode, etc.)\n",
    "# Iterate over each column to handle different types of missing values\n",
    "for col in cols:\n",
    "    if data[col].dtype == 'object':\n",
    "        # Handle object (string) columns by filling with mode (most common value)\n",
    "        data[col].fillna(data[col].mode()[0], inplace=True)\n",
    "    else:\n",
    "        # Handle numeric columns by filling NaN with mean and replacing Inf with NaN first\n",
    "        data[col].replace([np.inf, -np.inf], np.nan, inplace=True)\n",
    "        data[col].fillna(data[col].mean(), inplace=True)"
   ]
  },
  {
   "cell_type": "code",
   "execution_count": 30,
   "metadata": {},
   "outputs": [
    {
     "data": {
      "text/plain": [
       "1245"
      ]
     },
     "execution_count": 30,
     "metadata": {},
     "output_type": "execute_result"
    }
   ],
   "source": [
    "len(data)"
   ]
  },
  {
   "cell_type": "markdown",
   "metadata": {},
   "source": [
    "REMOVAL OF DATA THAT HAS BEEN PRODUCED DUE TO SENSOR FAULTS, SHUTDOWN VALUES"
   ]
  },
  {
   "cell_type": "code",
   "execution_count": 31,
   "metadata": {},
   "outputs": [],
   "source": [
    "import numpy as np\n",
    "import pandas as pd\n",
    "\n",
    "# Assuming 'data' is your DataFrame and 'cols' is the list of columns to clean\n",
    "for col in cols:\n",
    "    if col in cols:\n",
    "        if data[col].dtype in [np.float64, np.int64]:  # Ensure the column is numeric\n",
    "            data = data[data[col] >= 0]\n",
    "        else:\n",
    "            data = data[pd.to_numeric(data[col], errors='coerce').notna()]  # Remove non-numeric values\n",
    "\n",
    "# Remove rows with constant values in the specified columns\n",
    "data = data[~data[cols].apply(lambda row: row.nunique() == 1, axis=1)]\n"
   ]
  },
  {
   "cell_type": "code",
   "execution_count": 32,
   "metadata": {},
   "outputs": [
    {
     "data": {
      "text/plain": [
       "1245"
      ]
     },
     "execution_count": 32,
     "metadata": {},
     "output_type": "execute_result"
    }
   ],
   "source": [
    "len(data)"
   ]
  },
  {
   "cell_type": "markdown",
   "metadata": {},
   "source": [
    "REMOVAL OF OUTLIERS"
   ]
  },
  {
   "cell_type": "code",
   "execution_count": 33,
   "metadata": {},
   "outputs": [],
   "source": [
    "def remove_outliers_column_iqr(data, cols):\n",
    "    for col in cols:\n",
    "        if col in data.select_dtypes(include=np.number).columns:\n",
    "            Q1 = data[col].quantile(0.05)\n",
    "            Q3 = data[col].quantile(0.95)\n",
    "            IQR = Q3 - Q1\n",
    "            lower_bound = Q1 - 1.5 * IQR\n",
    "            upper_bound = Q3 + 1.5 * IQR\n",
    "            data = data[(data[col] >= lower_bound) & (data[col] <= upper_bound)]\n",
    "    return data\n",
    "\n",
    "\n",
    "# Apply the function to remove outliers based on IQR for the specified columns\n",
    "data = remove_outliers_column_iqr(data, cols)"
   ]
  },
  {
   "cell_type": "code",
   "execution_count": 34,
   "metadata": {},
   "outputs": [
    {
     "data": {
      "text/plain": [
       "1215"
      ]
     },
     "execution_count": 34,
     "metadata": {},
     "output_type": "execute_result"
    }
   ],
   "source": [
    "len(data)"
   ]
  },
  {
   "cell_type": "code",
   "execution_count": 35,
   "metadata": {},
   "outputs": [],
   "source": [
    "data.to_csv('cleaned_data.csv')"
   ]
  }
 ],
 "metadata": {
  "kernelspec": {
   "display_name": "base",
   "language": "python",
   "name": "python3"
  },
  "language_info": {
   "codemirror_mode": {
    "name": "ipython",
    "version": 3
   },
   "file_extension": ".py",
   "mimetype": "text/x-python",
   "name": "python",
   "nbconvert_exporter": "python",
   "pygments_lexer": "ipython3",
   "version": "3.12.1"
  }
 },
 "nbformat": 4,
 "nbformat_minor": 2
}
