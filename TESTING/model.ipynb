{
 "cells": [
  {
   "cell_type": "code",
   "execution_count": 2,
   "metadata": {},
   "outputs": [
    {
     "name": "stdout",
     "output_type": "stream",
     "text": [
      "Mean Squared Error for each output variable: [0.01530403 0.84704779 0.82254631]\n",
      "R-squared Score: 0.9663669101772179\n"
     ]
    }
   ],
   "source": [
    "import pandas as pd\n",
    "from sklearn.model_selection import train_test_split\n",
    "from sklearn.preprocessing import StandardScaler\n",
    "from sklearn.multioutput import MultiOutputRegressor\n",
    "from sklearn.ensemble import RandomForestRegressor\n",
    "from sklearn.metrics import mean_squared_error, r2_score\n",
    "import numpy as np\n",
    "\n",
    "# Load the data\n",
    "data = pd.read_excel('model_data_selected_columns.xlsx')\n",
    "\n",
    "# Extract input features and output labels\n",
    "X = data.drop(columns=['> 35', '35 to 200', '< 200'])  # Drop the output columns\n",
    "y = data[['> 35', '35 to 200', '< 200']]\n",
    "\n",
    "# Split the data into training and testing sets\n",
    "X_train, X_test, y_train, y_test = train_test_split(X, y, test_size=0.2, random_state=42)\n",
    "\n",
    "# Standardize the input features\n",
    "scaler = StandardScaler()\n",
    "X_train_scaled = scaler.fit_transform(X_train)\n",
    "X_test_scaled = scaler.transform(X_test)\n",
    "\n",
    "# Initialize and train the model\n",
    "model = MultiOutputRegressor(RandomForestRegressor(n_estimators=100, random_state=42))\n",
    "model.fit(X_train_scaled, y_train)\n",
    "\n",
    "# Predict on the test set\n",
    "y_pred = model.predict(X_test_scaled)\n",
    "\n",
    "# Evaluate the model\n",
    "mse = mean_squared_error(y_test, y_pred, multioutput='raw_values')\n",
    "r2 = r2_score(y_test, y_pred)\n",
    "\n",
    "# Output the results\n",
    "print(\"Mean Squared Error for each output variable:\", mse)\n",
    "print(\"R-squared Score:\", r2)"
   ]
  },
  {
   "cell_type": "code",
   "execution_count": 3,
   "metadata": {},
   "outputs": [
    {
     "data": {
      "text/plain": [
       "Index(['T', 'A', 'S', 'M', 'X1', 'X2', 'X3', 'X4', 'X5', 'X6',\n",
       "       'Weigh_Feeder_rate_ A(TPH)', 'Weigh_feeder_rate_B(TPH)',\n",
       "       'Ball_mill_amps', 'BALL_MILL_VENT_SYS_TEMP(Â°C)',\n",
       "       'BALL_MILL_VENT_FAN_AMPS', 'BAG_FILTER_DP(mmWC)',\n",
       "       'SCREW_CONV _ CURRENT(Amps)', 'BUCKET_ELEVATOR_CURRENT(Amps)', '> 35',\n",
       "       '35 to 200', '< 200'],\n",
       "      dtype='object')"
      ]
     },
     "execution_count": 3,
     "metadata": {},
     "output_type": "execute_result"
    }
   ],
   "source": [
    "data.columns"
   ]
  },
  {
   "cell_type": "code",
   "execution_count": 4,
   "metadata": {},
   "outputs": [
    {
     "name": "stdout",
     "output_type": "stream",
     "text": [
      "Actual Target:\n",
      "   > 35  35 to 200  < 200\n",
      "0   2.3         48   49.7\n",
      "Prediction:\n",
      "    > 35  35 to 200   < 200\n",
      "0  2.576     41.934  49.194\n",
      "Mean Squared Error: 12.376189333333492\n"
     ]
    },
    {
     "name": "stderr",
     "output_type": "stream",
     "text": [
      "c:\\Users\\iamsa\\AppData\\Local\\Programs\\Python\\Python311\\Lib\\site-packages\\sklearn\\base.py:486: UserWarning: X has feature names, but RandomForestRegressor was fitted without feature names\n",
      "  warnings.warn(\n",
      "c:\\Users\\iamsa\\AppData\\Local\\Programs\\Python\\Python311\\Lib\\site-packages\\sklearn\\base.py:486: UserWarning: X has feature names, but RandomForestRegressor was fitted without feature names\n",
      "  warnings.warn(\n",
      "c:\\Users\\iamsa\\AppData\\Local\\Programs\\Python\\Python311\\Lib\\site-packages\\sklearn\\base.py:486: UserWarning: X has feature names, but RandomForestRegressor was fitted without feature names\n",
      "  warnings.warn(\n"
     ]
    }
   ],
   "source": [
    "import pandas as pd\n",
    "import joblib\n",
    "from sklearn.metrics import mean_squared_error\n",
    "\n",
    "# Manually input the values for the single data record\n",
    "single_record = {\n",
    "    'T': 50,\n",
    "    'A': 30,\n",
    "    'S': 20,\n",
    "    'M': 0,\n",
    "    'X1': 25.12,\n",
    "    'X2': 6.88,\n",
    "    'X3': 22.05,\n",
    "    'X4': 13.95,\n",
    "    'X5': 9.48,\n",
    "    'X6': 7.23,\n",
    "    'Weigh_Feeder_rate_ A(TPH)': 26,\n",
    "    'Weigh_feeder_rate_B(TPH)': 65,\n",
    "    'Ball_mill_amps': 76,\n",
    "    'BALL_MILL_VENT_SYS_TEMP(Â°C)': 45,\n",
    "    'BALL_MILL_VENT_FAN_AMPS': 55,\n",
    "    'BAG_FILTER_DP(mmWC)': 412,\n",
    "    'SCREW_CONV _ CURRENT(Amps)': 31,\n",
    "    'BUCKET_ELEVATOR_CURRENT(Amps)': 26\n",
    "}\n",
    "\n",
    "# Convert the dictionary to a DataFrame\n",
    "single_record_df = pd.DataFrame([single_record])\n",
    "\n",
    "\n",
    "# Make prediction\n",
    "prediction = model.predict(single_record_df)\n",
    "\n",
    "# Convert prediction to a DataFrame for better readability\n",
    "prediction_df = pd.DataFrame(prediction, columns=['> 35', '35 to 200', '< 200'])\n",
    "\n",
    "# Manually input the actual target values for comparison\n",
    "actual_target = {\n",
    "    '> 35': 2.3,\n",
    "    '35 to 200': 48,\n",
    "    '< 200': 49.7\n",
    "}\n",
    "\n",
    "# Convert the actual target values to a DataFrame\n",
    "actual_target_df = pd.DataFrame([actual_target])\n",
    "\n",
    "# Calculate Mean Squared Error\n",
    "mse = mean_squared_error(actual_target_df, prediction_df)\n",
    "\n",
    "print(f\"Actual Target:\\n{actual_target_df}\")\n",
    "print(f\"Prediction:\\n{prediction_df}\")\n",
    "print(f\"Mean Squared Error: {mse}\")\n"
   ]
  },
  {
   "cell_type": "code",
   "execution_count": 5,
   "metadata": {},
   "outputs": [
    {
     "name": "stdout",
     "output_type": "stream",
     "text": [
      "Results have been saved to Test_with_predictions_and_mse.xlsx\n"
     ]
    }
   ],
   "source": [
    "import pandas as pd\n",
    "from sklearn.model_selection import train_test_split\n",
    "from sklearn.preprocessing import StandardScaler\n",
    "from sklearn.multioutput import MultiOutputRegressor\n",
    "from sklearn.ensemble import RandomForestRegressor\n",
    "from sklearn.metrics import mean_squared_error\n",
    "\n",
    "# Load the data for training the model\n",
    "train_data = pd.read_excel('model_data_selected_columns.xlsx')\n",
    "\n",
    "# Extract input features and output labels\n",
    "X_train = train_data.drop(columns=['> 35', '35 to 200', '< 200'])  # Drop the output columns\n",
    "y_train = train_data[['> 35', '35 to 200', '< 200']]\n",
    "\n",
    "# Standardize the input features\n",
    "scaler = StandardScaler()\n",
    "X_train_scaled = scaler.fit_transform(X_train)\n",
    "\n",
    "# Initialize and train the model\n",
    "model = MultiOutputRegressor(RandomForestRegressor(n_estimators=100, random_state=42))\n",
    "model.fit(X_train_scaled, y_train)\n",
    "\n",
    "# Load the new data for testing the model\n",
    "test_data = pd.read_excel('Test.xlsx')\n",
    "\n",
    "# Extract input features from the new data\n",
    "X_test = test_data.drop(columns=['> 35', '35 to 200', '< 200'])  # Assuming the new data has the same structure\n",
    "\n",
    "# Standardize the input features of the new data\n",
    "X_test_scaled = scaler.transform(X_test)\n",
    "\n",
    "# Predict on the new data\n",
    "y_pred_test = model.predict(X_test_scaled)\n",
    "\n",
    "# Convert predictions to a DataFrame\n",
    "predictions_df = pd.DataFrame(y_pred_test, columns=['Predicted > 35', 'Predicted 35 to 200', 'Predicted < 200'])\n",
    "\n",
    "# Calculate Mean Squared Error for each row\n",
    "mse_test = [mean_squared_error([y_true], [y_pred]) for y_true, y_pred in zip(test_data[['> 35', '35 to 200', '< 200']].values, y_pred_test)]\n",
    "mse_df = pd.DataFrame(mse_test, columns=['Mean Squared Error'])\n",
    "\n",
    "# Combine the predictions and the MSE with the new data\n",
    "result_df = pd.concat([test_data, predictions_df, mse_df], axis=1)\n",
    "\n",
    "# Save the result to a new Excel file\n",
    "output_path = 'Test_with_predictions_and_mse.xlsx'\n",
    "result_df.to_excel(output_path, index=False)\n",
    "\n",
    "print(f\"Results have been saved to {output_path}\")"
   ]
  }
 ],
 "metadata": {
  "kernelspec": {
   "display_name": "Python 3",
   "language": "python",
   "name": "python3"
  },
  "language_info": {
   "codemirror_mode": {
    "name": "ipython",
    "version": 3
   },
   "file_extension": ".py",
   "mimetype": "text/x-python",
   "name": "python",
   "nbconvert_exporter": "python",
   "pygments_lexer": "ipython3",
   "version": "3.11.3"
  }
 },
 "nbformat": 4,
 "nbformat_minor": 2
}
