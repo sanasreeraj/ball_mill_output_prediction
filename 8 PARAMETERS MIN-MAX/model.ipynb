{
 "cells": [
  {
   "cell_type": "code",
   "execution_count": 2,
   "metadata": {},
   "outputs": [
    {
     "name": "stdout",
     "output_type": "stream",
     "text": [
      "Mean Squared Error for each output variable: [0.01530403 0.84704779 0.82254631]\n",
      "R-squared Score: 0.9663669101772179\n"
     ]
    }
   ],
   "source": [
    "import pandas as pd\n",
    "from sklearn.model_selection import train_test_split\n",
    "from sklearn.preprocessing import StandardScaler\n",
    "from sklearn.multioutput import MultiOutputRegressor\n",
    "from sklearn.ensemble import RandomForestRegressor\n",
    "from sklearn.metrics import mean_squared_error, r2_score\n",
    "import numpy as np\n",
    "\n",
    "# Load the data\n",
    "data = pd.read_excel('model_data_selected_columns.xlsx')\n",
    "\n",
    "# Extract input features and output labels\n",
    "X = data.drop(columns=['> 35', '35 to 200', '< 200'])  # Drop the output columns\n",
    "y = data[['> 35', '35 to 200', '< 200']]\n",
    "\n",
    "# Split the data into training and testing sets\n",
    "X_train, X_test, y_train, y_test = train_test_split(X, y, test_size=0.2, random_state=42)\n",
    "\n",
    "# Standardize the input features\n",
    "scaler = StandardScaler()\n",
    "X_train_scaled = scaler.fit_transform(X_train)\n",
    "X_test_scaled = scaler.transform(X_test)\n",
    "\n",
    "# Initialize and train the model\n",
    "model = MultiOutputRegressor(RandomForestRegressor(n_estimators=100, random_state=42))\n",
    "model.fit(X_train_scaled, y_train)\n",
    "\n",
    "# Predict on the test set\n",
    "y_pred = model.predict(X_test_scaled)\n",
    "\n",
    "# Evaluate the model\n",
    "mse = mean_squared_error(y_test, y_pred, multioutput='raw_values')\n",
    "r2 = r2_score(y_test, y_pred)\n",
    "\n",
    "# Output the results\n",
    "print(\"Mean Squared Error for each output variable:\", mse)\n",
    "print(\"R-squared Score:\", r2)"
   ]
  },
  {
   "cell_type": "code",
   "execution_count": 3,
   "metadata": {},
   "outputs": [
    {
     "data": {
      "text/plain": [
       "Index(['T', 'A', 'S', 'M', 'X1', 'X2', 'X3', 'X4', 'X5', 'X6',\n",
       "       'Weigh_Feeder_rate_ A(TPH)', 'Weigh_feeder_rate_B(TPH)',\n",
       "       'Ball_mill_amps', 'BALL_MILL_VENT_SYS_TEMP(Â°C)',\n",
       "       'BALL_MILL_VENT_FAN_AMPS', 'BAG_FILTER_DP(mmWC)',\n",
       "       'SCREW_CONV _ CURRENT(Amps)', 'BUCKET_ELEVATOR_CURRENT(Amps)', '> 35',\n",
       "       '35 to 200', '< 200'],\n",
       "      dtype='object')"
      ]
     },
     "execution_count": 3,
     "metadata": {},
     "output_type": "execute_result"
    }
   ],
   "source": [
    "data.columns"
   ]
  },
  {
   "cell_type": "code",
   "execution_count": 4,
   "metadata": {},
   "outputs": [
    {
     "name": "stdout",
     "output_type": "stream",
     "text": [
      "Actual Target:\n",
      "   > 35  35 to 200  < 200\n",
      "0   2.4       48.7   48.9\n",
      "Prediction:\n",
      "    > 35  35 to 200   < 200\n",
      "0  2.669     41.934  49.194\n",
      "Mean Squared Error: 15.312517666666851\n"
     ]
    },
    {
     "name": "stderr",
     "output_type": "stream",
     "text": [
      "c:\\Users\\iamsa\\AppData\\Local\\Programs\\Python\\Python311\\Lib\\site-packages\\sklearn\\base.py:486: UserWarning: X has feature names, but RandomForestRegressor was fitted without feature names\n",
      "  warnings.warn(\n",
      "c:\\Users\\iamsa\\AppData\\Local\\Programs\\Python\\Python311\\Lib\\site-packages\\sklearn\\base.py:486: UserWarning: X has feature names, but RandomForestRegressor was fitted without feature names\n",
      "  warnings.warn(\n",
      "c:\\Users\\iamsa\\AppData\\Local\\Programs\\Python\\Python311\\Lib\\site-packages\\sklearn\\base.py:486: UserWarning: X has feature names, but RandomForestRegressor was fitted without feature names\n",
      "  warnings.warn(\n"
     ]
    }
   ],
   "source": [
    "import pandas as pd\n",
    "import joblib\n",
    "from sklearn.metrics import mean_squared_error\n",
    "\n",
    "# Manually input the values for the single data record\n",
    "single_record = {\n",
    "    'T': 40,\n",
    "    'A': 60,\n",
    "    'S': 0,\n",
    "    'M': 0,\n",
    "    'X1': 17.74,\n",
    "    'X2': 9.32,\n",
    "    'X3': 29.46,\n",
    "    'X4': 19.82,\n",
    "    'X5': 16.96,\n",
    "    'X6': 6.7,\n",
    "    'Weigh_Feeder_rate_ A(TPH)': 44.023382,\n",
    "    'Weigh_feeder_rate_B(TPH)': 44.1504,\n",
    "    'Ball_mill_amps': 75.704798,\n",
    "    'BALL_MILL_VENT_SYS_TEMP(Â°C)': 39.717406,\n",
    "    'BALL_MILL_VENT_FAN_AMPS': 69.063265,\n",
    "    'BAG_FILTER_DP(mmWC)': 452.604484,\n",
    "    'SCREW_CONV _ CURRENT(Amps)': 28.570462,\n",
    "    'BUCKET_ELEVATOR_CURRENT(Amps)': 28.637495\n",
    "}\n",
    "\n",
    "# Convert the dictionary to a DataFrame\n",
    "single_record_df = pd.DataFrame([single_record])\n",
    "\n",
    "\n",
    "# Make prediction\n",
    "prediction = model.predict(single_record_df)\n",
    "\n",
    "# Convert prediction to a DataFrame for better readability\n",
    "prediction_df = pd.DataFrame(prediction, columns=['> 35', '35 to 200', '< 200'])\n",
    "\n",
    "# Manually input the actual target values for comparison\n",
    "actual_target = {\n",
    "    '> 35': 2.4,\n",
    "    '35 to 200': 48.7,\n",
    "    '< 200': 48.9\n",
    "}\n",
    "\n",
    "# Convert the actual target values to a DataFrame\n",
    "actual_target_df = pd.DataFrame([actual_target])\n",
    "\n",
    "# Calculate Mean Squared Error\n",
    "mse = mean_squared_error(actual_target_df, prediction_df)\n",
    "\n",
    "print(f\"Actual Target:\\n{actual_target_df}\")\n",
    "print(f\"Prediction:\\n{prediction_df}\")\n",
    "print(f\"Mean Squared Error: {mse}\")\n"
   ]
  }
 ],
 "metadata": {
  "kernelspec": {
   "display_name": "Python 3",
   "language": "python",
   "name": "python3"
  },
  "language_info": {
   "codemirror_mode": {
    "name": "ipython",
    "version": 3
   },
   "file_extension": ".py",
   "mimetype": "text/x-python",
   "name": "python",
   "nbconvert_exporter": "python",
   "pygments_lexer": "ipython3",
   "version": "3.11.3"
  }
 },
 "nbformat": 4,
 "nbformat_minor": 2
}
